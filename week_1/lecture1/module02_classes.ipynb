{
 "cells": [
  {
   "cell_type": "markdown",
   "metadata": {},
   "source": [
    "### Code to accompany Module 2: Object-Oriented Programming and Testing"
   ]
  },
  {
   "cell_type": "code",
   "execution_count": 7,
   "metadata": {},
   "outputs": [],
   "source": [
    "# for each mascot record, list its name, description, and participating events\n",
    "jonathan = [\"Jonathan\", \"husky\", \"mbb_butler_0121\", \"wbb_villanova_0122\", \"mhockey_quinnipiac_0124\"]\n",
    "\n",
    "def get_name(mascot):\n",
    "    return mascot[0]\n",
    "def description(mascot):\n",
    "    return mascot[1]\n",
    "def get_events(mascot):\n",
    "    return mascot[2:]"
   ]
  },
  {
   "cell_type": "code",
   "execution_count": 4,
   "metadata": {},
   "outputs": [],
   "source": [
    "# do these functions work?"
   ]
  },
  {
   "cell_type": "code",
   "execution_count": 8,
   "metadata": {},
   "outputs": [],
   "source": [
    "# let's add fields for school colors\n",
    "jonathan = [\"Jonathan\", \"husky\", \"blue\", \"white\", \n",
    "            \"mbb_butler_0121\", \"wbb_villanova_0122\", \"mhockey_quinnipiac_0124\"]\n",
    "\n",
    "def get_name(mascot):\n",
    "    return mascot[0]\n",
    "def description(mascot):\n",
    "    return mascot[1]\n",
    "def get_events(mascot):\n",
    "    return mascot[2:]"
   ]
  },
  {
   "cell_type": "code",
   "execution_count": 12,
   "metadata": {},
   "outputs": [],
   "source": [
    "# we can define a class instead\n",
    "class mascot:\n",
    "    def __init__(self, name, description, colors=(), events=()):\n",
    "        self.name = name\n",
    "        self.description = description\n",
    "        self.colors = [i for i in colors]\n",
    "        self._events = [i for i in events]"
   ]
  },
  {
   "cell_type": "code",
   "execution_count": null,
   "metadata": {},
   "outputs": [],
   "source": [
    "# now we'll construct the record for jonathan according to the class structure\n",
    "jonathan = mascot(\"Jonathan\", \"husky\", [\"blue\", \"white\"], \n",
    "            [\"mbb_butler_0121\", \"wbb_villanova_0122\", \"mhockey_quinnipiac_0124\"])\n",
    "\n",
    "# return the components\n",
    "print(jonathan.name)\n",
    "print(jonathan.description)\n",
    "print(jonathan.colors)\n",
    "print(jonathan._events)\n"
   ]
  },
  {
   "cell_type": "code",
   "execution_count": null,
   "metadata": {},
   "outputs": [],
   "source": [
    "# what happens when we try to print the whole object?\n",
    "jonathan = mascot(\"Jonathan\", \"husky\", [\"blue\", \"white\"], \n",
    "            [\"mbb_butler_0121\", \"wbb_villanova_0122\", \"mhockey_quinnipiac_0124\"])\n",
    "\n",
    "print(jonathan)"
   ]
  },
  {
   "cell_type": "code",
   "execution_count": 16,
   "metadata": {},
   "outputs": [],
   "source": [
    "# we can set up a method to help with this\n",
    "class mascot:\n",
    "    def __init__(self, name, description, colors=(), events=()):\n",
    "        self.name = name\n",
    "        self.description = description\n",
    "        self.colors = [i for i in colors]\n",
    "        self._events = [i for i in events]\n",
    "    def __str__(self):\n",
    "        return f\"Mascot: {self.name} the {self.description}\""
   ]
  },
  {
   "cell_type": "code",
   "execution_count": null,
   "metadata": {},
   "outputs": [],
   "source": [
    "# did that work?\n",
    "jonathan = mascot(\"Jonathan\", \"husky\", [\"blue\", \"white\"], \n",
    "            [\"mbb_butler_0121\", \"wbb_villanova_0122\", \"mhockey_quinnipiac_0124\"])\n",
    "\n",
    "print(jonathan)"
   ]
  },
  {
   "cell_type": "code",
   "execution_count": null,
   "metadata": {},
   "outputs": [],
   "source": [
    "# method resolution order.\n",
    "class mother:\n",
    "    def my_method(self):\n",
    "        print(\"called mother's method\")\n",
    "\n",
    "class father:\n",
    "    def my_method(self):\n",
    "        print(\"called father's method\")  \n",
    "\n",
    "class child(father, mother):\n",
    "    pass # you may not have seen this before--think of pass as a placeholder that does nothing (how useful!)\n",
    "\n",
    "child1=child()\n",
    "# which will it use? the mother's? or the father's?\n",
    "child1.my_method()"
   ]
  },
  {
   "cell_type": "code",
   "execution_count": null,
   "metadata": {},
   "outputs": [],
   "source": [
    "def print_length(obj):\n",
    "    \"\"\"\n",
    "    Prints the length of the given object as long as the object's class\n",
    "    definition has implemented the __len__ magic method.\n",
    "    \"\"\"\n",
    "    print(len(obj))\n",
    "\n",
    "print_length([1,2,3])\n",
    "print_length(('a','b','c'))\n",
    "print_length({'cat','dog'})\n",
    "print_length(\"CSE 2050\")"
   ]
  },
  {
   "cell_type": "code",
   "execution_count": null,
   "metadata": {},
   "outputs": [],
   "source": [
    "# Given two lists L1 and L2, \n",
    "# calculate the average of each list \n",
    "# and store the averages in variables avg1 and avg2\n",
    "\n",
    "L1 = [1,2,3]\n",
    "L2 = []"
   ]
  },
  {
   "cell_type": "code",
   "execution_count": null,
   "metadata": {},
   "outputs": [],
   "source": [
    "# Average of two lists, version 1\n",
    "avg1 = sum(L1)/len(L1)\n",
    "avg2 = sum(L2)/len(L2)\n",
    "\n",
    "print(avg1)\n",
    "print(avg2)"
   ]
  },
  {
   "cell_type": "code",
   "execution_count": null,
   "metadata": {},
   "outputs": [],
   "source": [
    "# version 2\n",
    "if len(L1) == 0: \n",
    "    avg1 = 0 \n",
    "else:\n",
    "    avg1 = sum(L1)/len(L1)\n",
    "if len(L2) == 0: \n",
    "    avg2 = 0\n",
    "else:\n",
    "    avg2 = sum(L2)/len(L2)\n",
    "\n",
    "print(avg1)\n",
    "print(avg2)"
   ]
  },
  {
   "cell_type": "code",
   "execution_count": null,
   "metadata": {},
   "outputs": [],
   "source": [
    "# version 3\n",
    "def avg(L): \n",
    "    if len(L) == 0: \n",
    "        return 0 \n",
    "    else: \n",
    "        return sum(L)/len(L)\n",
    "\n",
    "avg1 = avg(L1)\n",
    "avg2 = avg(L2)\n",
    "\n",
    "print(avg1)\n",
    "print(avg2)"
   ]
  }
 ],
 "metadata": {
  "kernelspec": {
   "display_name": "base",
   "language": "python",
   "name": "python3"
  },
  "language_info": {
   "codemirror_mode": {
    "name": "ipython",
    "version": 3
   },
   "file_extension": ".py",
   "mimetype": "text/x-python",
   "name": "python",
   "nbconvert_exporter": "python",
   "pygments_lexer": "ipython3",
   "version": "3.11.5"
  }
 },
 "nbformat": 4,
 "nbformat_minor": 2
}

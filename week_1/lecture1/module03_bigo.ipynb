{
 "cells": [
  {
   "cell_type": "markdown",
   "metadata": {},
   "source": [
    "### Code to accompany Module 3: Running Time Analysis"
   ]
  },
  {
   "cell_type": "code",
   "execution_count": null,
   "metadata": {},
   "outputs": [],
   "source": [
    "def integer_sum(n):\n",
    "    \"\"\"returns the sum of \n",
    "    the integers 1 to n\"\"\"\n",
    "    sum = 0\n",
    "\n",
    "    for i in range(1,n+1):\n",
    "\n",
    "        sum += i\n",
    "        \n",
    "    return sum"
   ]
  },
  {
   "cell_type": "code",
   "execution_count": 1,
   "metadata": {},
   "outputs": [],
   "source": [
    "def foo():\n",
    "    n = 10\n",
    "    d = {i : j for i in range(n) for j in range(n)}\n",
    "    return d"
   ]
  },
  {
   "cell_type": "code",
   "execution_count": 2,
   "metadata": {},
   "outputs": [],
   "source": [
    "def find_evens(L):\n",
    "    evens = []\n",
    "    for i in L:\n",
    "        if i % 2 == 0:\n",
    "            evens.append(i)\n",
    "    return evens"
   ]
  },
  {
   "cell_type": "code",
   "execution_count": null,
   "metadata": {},
   "outputs": [],
   "source": [
    "# example of a function with quadratic running time\n",
    "def pairs(L):\n",
    "    pairs = []\n",
    "    n = len(L)\n",
    "    for i in range(n):\n",
    "        for j in range(n):\n",
    "            pairs.append((i,j))\n",
    "    return pairs"
   ]
  },
  {
   "cell_type": "code",
   "execution_count": 3,
   "metadata": {},
   "outputs": [],
   "source": [
    "def duplicates1(L):\n",
    "    n = len(L)\n",
    "    for i in range(n):\n",
    "        for j in range(n):\n",
    "            if i != j and L[i] == L[j]:\n",
    "                return True\n",
    "    return False"
   ]
  },
  {
   "cell_type": "code",
   "execution_count": null,
   "metadata": {},
   "outputs": [],
   "source": [
    "import time\n",
    "\n",
    "for i in range(5):\n",
    "    n = 1000\n",
    "    start = time.time()\n",
    "    duplicates1(list(range(n)))\n",
    "    timetaken = time.time() - start\n",
    "    print(f\"Time taken for n = {n} : {timetaken}\")"
   ]
  },
  {
   "cell_type": "code",
   "execution_count": null,
   "metadata": {},
   "outputs": [],
   "source": [
    "def timetrials(func, n, trials = 10):\n",
    "    totaltime = 0\n",
    "    for i in range(trials):\n",
    "        start = time.time()\n",
    "        func(list(range(n)))\n",
    "        totaltime += time.time() - start\n",
    "    avg = totaltime / trials\n",
    "    print(f\"average = {avg:.7f} for n = {n}\")\n",
    "\n",
    "for n in [50, 100, 200, 400, 800, 1600, 3200]:\n",
    "    timetrials(duplicates1, n)"
   ]
  },
  {
   "cell_type": "code",
   "execution_count": null,
   "metadata": {},
   "outputs": [],
   "source": [
    "def duplicates2(L):\n",
    "    n = len(L)\n",
    "    for i in range(1,n):\n",
    "        for j in range(i):\n",
    "            if L[i] == L[j]:\n",
    "                return True\n",
    "    return False\n",
    "\n",
    "for n in [50, 100, 200, 400, 800, 1600, 3200]:\n",
    "    timetrials(duplicates2, n)"
   ]
  },
  {
   "cell_type": "code",
   "execution_count": null,
   "metadata": {},
   "outputs": [],
   "source": [
    "def duplicates3(L):\n",
    "    n = len(L)\n",
    "    return any(L[i] == L[j] for i in range(1,n) for j in range(i))\n",
    "\n",
    "for n in [50, 100, 200, 400, 800, 1600, 3200]:\n",
    "    timetrials(duplicates3, n)"
   ]
  },
  {
   "cell_type": "code",
   "execution_count": null,
   "metadata": {},
   "outputs": [],
   "source": [
    "def duplicates4(L):\n",
    "    n = len(L)\n",
    "    L.sort()\n",
    "    for i in range(n-1):\n",
    "        if L[i] == L[i+1]:\n",
    "            return True\n",
    "    return False\n",
    "\n",
    "for n in [50, 100, 200, 400, 800, 1600, 3200]:\n",
    "    timetrials(duplicates4, n)"
   ]
  },
  {
   "cell_type": "code",
   "execution_count": null,
   "metadata": {},
   "outputs": [],
   "source": [
    "def duplicates5(L):\n",
    "    s = set()\n",
    "    for e in L:\n",
    "        if e in s:\n",
    "            return True\n",
    "        s.add(e)\n",
    "    return False\n",
    "\n",
    "for n in [50, 100, 200, 400, 800, 1600, 3200]:\n",
    "    timetrials(duplicates5, n)"
   ]
  },
  {
   "cell_type": "code",
   "execution_count": null,
   "metadata": {},
   "outputs": [],
   "source": [
    "def duplicates6(L):\n",
    "    return len(L) != len(set(L))\n",
    "\n",
    "for n in [50, 100, 200, 400, 800, 1600, 3200]:\n",
    "    timetrials(duplicates6, n)"
   ]
  }
 ],
 "metadata": {
  "kernelspec": {
   "display_name": "base",
   "language": "python",
   "name": "python3"
  },
  "language_info": {
   "codemirror_mode": {
    "name": "ipython",
    "version": 3
   },
   "file_extension": ".py",
   "mimetype": "text/x-python",
   "name": "python",
   "nbconvert_exporter": "python",
   "pygments_lexer": "ipython3",
   "version": "3.11.5"
  }
 },
 "nbformat": 4,
 "nbformat_minor": 2
}
